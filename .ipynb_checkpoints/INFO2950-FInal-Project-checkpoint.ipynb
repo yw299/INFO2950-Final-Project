{
 "cells": [
  {
   "cell_type": "code",
<<<<<<< HEAD
   "execution_count": null,
   "metadata": {},
   "outputs": [],
   "source": [
    "\n"
   ]
=======
   "execution_count": 61,
   "metadata": {},
   "outputs": [
    {
     "name": "stdout",
     "output_type": "stream",
     "text": [
      "Requirement already satisfied: bs4 in /Users/juliazeng/opt/anaconda3/lib/python3.7/site-packages (0.0.1)\n",
      "Requirement already satisfied: beautifulsoup4 in /Users/juliazeng/opt/anaconda3/lib/python3.7/site-packages (from bs4) (4.8.0)\n",
      "Requirement already satisfied: soupsieve>=1.2 in /Users/juliazeng/opt/anaconda3/lib/python3.7/site-packages (from beautifulsoup4->bs4) (1.9.3)\n",
      "Requirement already satisfied: lxml in /Users/juliazeng/opt/anaconda3/lib/python3.7/site-packages (4.4.1)\n",
      "Requirement already satisfied: selenium in /Users/juliazeng/opt/anaconda3/lib/python3.7/site-packages (3.141.0)\n",
      "Requirement already satisfied: urllib3 in /Users/juliazeng/opt/anaconda3/lib/python3.7/site-packages (from selenium) (1.24.2)\n",
      "Requirement already satisfied: webdriver_manager in /Users/juliazeng/opt/anaconda3/lib/python3.7/site-packages (2.4.0)\n",
      "Requirement already satisfied: configparser in /Users/juliazeng/opt/anaconda3/lib/python3.7/site-packages (from webdriver_manager) (5.0.0)\n",
      "Requirement already satisfied: crayons in /Users/juliazeng/opt/anaconda3/lib/python3.7/site-packages (from webdriver_manager) (0.3.0)\n",
      "Requirement already satisfied: requests in /Users/juliazeng/opt/anaconda3/lib/python3.7/site-packages (from webdriver_manager) (2.22.0)\n",
      "Requirement already satisfied: colorama in /Users/juliazeng/opt/anaconda3/lib/python3.7/site-packages (from crayons->webdriver_manager) (0.4.1)\n",
      "Requirement already satisfied: idna<2.9,>=2.5 in /Users/juliazeng/opt/anaconda3/lib/python3.7/site-packages (from requests->webdriver_manager) (2.8)\n",
      "Requirement already satisfied: urllib3!=1.25.0,!=1.25.1,<1.26,>=1.21.1 in /Users/juliazeng/opt/anaconda3/lib/python3.7/site-packages (from requests->webdriver_manager) (1.24.2)\n",
      "Requirement already satisfied: certifi>=2017.4.17 in /Users/juliazeng/opt/anaconda3/lib/python3.7/site-packages (from requests->webdriver_manager) (2019.9.11)\n",
      "Requirement already satisfied: chardet<3.1.0,>=3.0.2 in /Users/juliazeng/opt/anaconda3/lib/python3.7/site-packages (from requests->webdriver_manager) (3.0.4)\n"
     ]
    }
   ],
   "source": [
    "import sys\n",
    "!{sys.executable} -m pip install bs4\n",
    "!{sys.executable} -m pip install lxml \n",
    "!{sys.executable} -m pip install selenium\n",
    "!{sys.executable} -m pip install webdriver_manager\n",
    "\n",
    "from selenium import webdriver \n",
    "\n",
    "from webdriver_manager.chrome import ChromeDriverManager\n",
    "\n",
    "from selenium.webdriver.common.by import By \n",
    "from selenium.webdriver.support.ui import WebDriverWait \n",
    "from selenium.webdriver.support import expected_conditions as EC \n",
    "from selenium.common.exceptions import TimeoutException\n",
    "\n",
    "from bs4 import BeautifulSoup"
   ]
  },
  {
   "cell_type": "code",
   "execution_count": 64,
   "metadata": {},
   "outputs": [],
   "source": [
    "# Specifying incognito mode as you launch your browser[OPTIONAL]\n",
    "option = webdriver.ChromeOptions()\n",
    "option.add_argument(\" — incognito\")"
   ]
  },
  {
   "cell_type": "code",
   "execution_count": 65,
   "metadata": {},
   "outputs": [
    {
     "name": "stdout",
     "output_type": "stream",
     "text": [
      "\n",
      "Looking for [chromedriver 81.0.4044.69 mac64] driver in cache \n",
      "File found in cache by path [/Users/juliazeng/.wdm/drivers/chromedriver/81.0.4044.69/mac64/chromedriver]\n"
     ]
    }
   ],
   "source": [
    "# Create new Instance of Chrome in incognito mode\n",
    "# browser = webdriver.Chrome(executable_path='/Library/Application Support/Google/chromedriver', chrome_options=option)\n",
    "browser = webdriver.Chrome(ChromeDriverManager().install())"
   ]
  },
  {
   "cell_type": "code",
   "execution_count": 66,
   "metadata": {},
   "outputs": [],
   "source": [
    "# Go to desired website\n",
    "browser.get(\"https://angel.co/companies\")"
   ]
  },
  {
   "cell_type": "code",
   "execution_count": 67,
   "metadata": {},
   "outputs": [
    {
     "name": "stdout",
     "output_type": "stream",
     "text": [
      "Timed out waiting for page to load\n"
     ]
    }
   ],
   "source": [
    "# Wait 20 seconds for page to load\n",
    "timeout = 20\n",
    "try:\n",
    "    WebDriverWait(browser, timeout).until(EC.visibility_of_element_located((By.XPATH, \"//img[@class=’avatar width-full rounded-2']\")))\n",
    "except TimeoutException:\n",
    "    print(\"Timed out waiting for page to load\")\n",
    "    browser.quit()"
   ]
  },
  {
   "cell_type": "code",
   "execution_count": null,
   "metadata": {},
   "outputs": [],
   "source": []
  },
  {
   "cell_type": "code",
   "execution_count": null,
   "metadata": {},
   "outputs": [],
   "source": []
  },
  {
   "cell_type": "code",
   "execution_count": null,
   "metadata": {},
   "outputs": [],
   "source": []
>>>>>>> 863b1dacf55abd2edd52af293f4afe8cd309e4cf
  }
 ],
 "metadata": {
  "kernelspec": {
   "display_name": "Python 3",
   "language": "python",
   "name": "python3"
  },
  "language_info": {
   "codemirror_mode": {
    "name": "ipython",
    "version": 3
   },
   "file_extension": ".py",
   "mimetype": "text/x-python",
   "name": "python",
   "nbconvert_exporter": "python",
   "pygments_lexer": "ipython3",
   "version": "3.7.4"
  }
 },
 "nbformat": 4,
 "nbformat_minor": 2
}
